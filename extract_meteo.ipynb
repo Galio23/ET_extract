{
 "cells": [
  {
   "cell_type": "code",
   "execution_count": 2,
   "metadata": {},
   "outputs": [],
   "source": [
    "import pandas as pd         #packages\n",
    "import datetime \n",
    "import numpy as np\n"
   ]
  },
  {
   "cell_type": "code",
   "execution_count": 6,
   "metadata": {},
   "outputs": [
    {
     "data": {
      "text/plain": [
       "Index(['Site ID', 'Year', 'Julian Day', 'Hour', 'Max Air Temperature(C)',\n",
       "       'Min Air Temperature(C)', 'Avg Air Temperature(C)',\n",
       "       'Max Relative Humidity(%)', 'Min Relative Humidity(%)',\n",
       "       'Avg Relative Humidity(%)', 'Max Dewpoint(C)', 'Min Dewpoint(C)',\n",
       "       'Avg Dewpoint(C)', 'Max Vapor Pressure(kPa)', 'Min Vapor Pressure(kPa)',\n",
       "       'Avg Vapor Pressure(kPa)', 'Max Vapor Pressure Deficit(kPa)',\n",
       "       'Min Vapor Pressure Deficit(kPa)', 'Avg Vapor Pressure Deficit(kPa)',\n",
       "       'Max Air Pressure(kPa)', 'Min Air Pressure(kPa)',\n",
       "       'Avg Air Pressure(kPa)', 'Avg Wind Speed(m/s)', 'Max Wind Speed(m/s)',\n",
       "       'Time of Max Wind Speed', 'Avg Wind Direction(Degrees)',\n",
       "       'Avg Wind Direction Standard Deviation(Degrees)',\n",
       "       'Max 2cm Soil Temperature(C)', 'Min 2cm Soil Temperature(C)',\n",
       "       'Avg 2cm Soil Temperature(C)', 'Max 5cm Soil Temperature(C)',\n",
       "       'Min 5cm Soil Temperature(C)', 'Avg 5cm Soil Temperature(C)',\n",
       "       'Max 10cm Soil Temperature(C)', 'Min 10cm Soil Temperature(C)',\n",
       "       'Avg 10cm Soil Temperature(C)', 'Max 20cm Soil Temperature(C)',\n",
       "       'Min 20cm Soil Temperature(C)', 'Avg 20cm Soil Tempearture(C)',\n",
       "       'Max Soil Temperature A(C)', 'Min Soil Temperature A(C)',\n",
       "       'Avg Soil Temperature A(C)', 'Max Soil Temperature B(C)',\n",
       "       'Min Soil Temperature B(C)', 'Avg Soil Temperature B(C)',\n",
       "       'Max Soil Moisture(.001%)', 'Min Soil Moisture(.001%)',\n",
       "       'Avg Soil Moisture(.001%)', 'Total Pan Level(mm)',\n",
       "       'Evapotranspiration(mm)', 'Max Water Temperature(C)',\n",
       "       'Min Water Temperature(C)', 'Avg Water Temperature(C)',\n",
       "       'Total Solar Radiation(MJ/m^2)', 'Total Par(Einstein/m^2)',\n",
       "       'Total Net Radiation(MJ/m^2)', 'Total Rain(mm)', 'Total Rain2(mm)',\n",
       "       'Leaf Wetness', 'Wetness Frequency(.001%)', 'Max Fuel Temperature(C)',\n",
       "       'Min Fuel Temperature(C)', 'Avg Fuel Temperature(C)',\n",
       "       'Max Fuel Moisture(%)', 'Min Fuel Moisture(%)', 'Avg Fuel Moisture(%)',\n",
       "       'Evapotranspiration2(mm)'],\n",
       "      dtype='object')"
      ]
     },
     "execution_count": 6,
     "metadata": {},
     "output_type": "execute_result"
    }
   ],
   "source": [
    "data = pd.read_excel(\"2022_Meteorological_data/CAMILLA22Daily.xls\")\n",
    "data.columns\n"
   ]
  },
  {
   "cell_type": "code",
   "execution_count": 7,
   "metadata": {},
   "outputs": [],
   "source": [
    "df = data[['Julian Day','Max Air Temperature(C)','Min Air Temperature(C)','Avg Air Temperature(C)','Total Rain2(mm)','Evapotranspiration(mm)']]\n",
    "df\n",
    "df.to_csv(\"SIRP_necessary_meteo_data.csv\",index=False)\n",
    "\n",
    "\n"
   ]
  }
 ],
 "metadata": {
  "kernelspec": {
   "display_name": "Python 3.9.12 ('base')",
   "language": "python",
   "name": "python3"
  },
  "language_info": {
   "codemirror_mode": {
    "name": "ipython",
    "version": 3
   },
   "file_extension": ".py",
   "mimetype": "text/x-python",
   "name": "python",
   "nbconvert_exporter": "python",
   "pygments_lexer": "ipython3",
   "version": "3.9.12"
  },
  "orig_nbformat": 4,
  "vscode": {
   "interpreter": {
    "hash": "57deba21596cf7ee0aca27c44c3f6fe7cf7fb93ee1670350224be09e9cdd60f6"
   }
  }
 },
 "nbformat": 4,
 "nbformat_minor": 2
}
